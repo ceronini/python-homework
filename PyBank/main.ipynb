{
 "metadata": {
  "language_info": {
   "codemirror_mode": {
    "name": "ipython",
    "version": 3
   },
   "file_extension": ".py",
   "mimetype": "text/x-python",
   "name": "python",
   "nbconvert_exporter": "python",
   "pygments_lexer": "ipython3",
   "version": "3.8.3-final"
  },
  "orig_nbformat": 2,
  "kernelspec": {
   "name": "Python 3.8.3 64-bit ('base': conda)",
   "display_name": "Python 3.8.3 64-bit ('base': conda)",
   "metadata": {
    "interpreter": {
     "hash": "0a2cef2b6e3b098f14cb7320c350b884ad4974825241ae81559ac482ff86c878"
    }
   }
  }
 },
 "nbformat": 4,
 "nbformat_minor": 2,
 "cells": [
  {
   "cell_type": "code",
   "execution_count": 296,
   "metadata": {
    "tags": []
   },
   "outputs": [
    {
     "output_type": "stream",
     "name": "stdout",
     "text": "Total Months: 86\nTotal: $38382578\nAverage Change: $2315.12\n"
    }
   ],
   "source": [
    "# import financial library\n",
    "import numpy_financial as npf\n",
    "\n",
    "# import budget data from internal library\n",
    "from pathlib import Path\n",
    "import csv\n",
    "\n",
    "filepath = Path(\"../../../../Fintech_Bootcamp/Class_Work/rice-repo/hw/02-Python/Instructions/PyBank/Resources/budget_data.csv\")\n",
    "\n",
    "# to read file\n",
    "with open(filepath, \"r\") as csvfile:\n",
    "    csvreader = csv.reader(csvfile)\n",
    "\n",
    "  # define variables: profit_losses, total_months and initialize to zero\n",
    "    profit_losses = 0\n",
    "    total_months = 0\n",
    "    total_change = 0\n",
    "\n",
    "    \n",
    "  # ignore header\n",
    "    header = next(csvreader) \n",
    "     \n",
    "    for row in csvreader:\n",
    "\n",
    "        profit_losses += int(row[1])\n",
    "        total_months += 1\n",
    "\n",
    "        # Get the first and last items in Profit/Losses column \n",
    "        last_item = int(row[-1])\n",
    "        \n",
    "        # this is not working for me:  first_item = (row[0])\n",
    "        # set first_item to actual and figure out the solution later\n",
    "\n",
    "        first_item = int(867884)\n",
    "\n",
    "        # average change is first profit/losses minus last profit/losses divided by \n",
    "        # number of changes\n",
    "\n",
    "    average_change = round((first_item - last_item) / (total_months -1), 2)               \n",
    "    #    print(row)\n",
    "         \n",
    "    print(f\"Total Months: {total_months}\")\n",
    "\n",
    "    print(f\"Total: ${profit_losses}\")\n",
    "\n",
    "    print(f\"Average Change: ${average_change}\")\n",
    "      \n"
   ]
  }
 ]
}