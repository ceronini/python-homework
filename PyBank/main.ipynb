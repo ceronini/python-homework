{
 "metadata": {
  "language_info": {
   "codemirror_mode": {
    "name": "ipython",
    "version": 3
   },
   "file_extension": ".py",
   "mimetype": "text/x-python",
   "name": "python",
   "nbconvert_exporter": "python",
   "pygments_lexer": "ipython3",
   "version": "3.8.3-final"
  },
  "orig_nbformat": 2,
  "kernelspec": {
   "name": "Python 3.8.3 64-bit ('base': conda)",
   "display_name": "Python 3.8.3 64-bit ('base': conda)",
   "metadata": {
    "interpreter": {
     "hash": "0a2cef2b6e3b098f14cb7320c350b884ad4974825241ae81559ac482ff86c878"
    }
   }
  }
 },
 "nbformat": 4,
 "nbformat_minor": 2,
 "cells": [
  {
   "cell_type": "code",
   "execution_count": 535,
   "metadata": {
    "tags": []
   },
   "outputs": [
    {
     "output_type": "stream",
     "name": "stdout",
     "text": "Total Months: 86\nTotal: $38382578\nAverage Change: $-2315.12\nGreatest Increase in profits: ...$(302709.0)\nGreatest Decrease in profits: ...$(-2064109.0)\n"
    }
   ],
   "source": [
    "# import financial library\n",
    "import numpy_financial as npf\n",
    "\n",
    "# import budget data from internal library\n",
    "from pathlib import Path\n",
    "import csv\n",
    "\n",
    "filepath = Path(\"../../../../Fintech_Bootcamp/Class_Work/rice-repo/hw/02-Python/Instructions/PyBank/Resources/budget_data.csv\")\n",
    "\n",
    "# to read file\n",
    "with open(filepath, \"r\") as csvfile:\n",
    "    csvreader = csv.reader(csvfile)\n",
    "    \n",
    "  # define variables: profit_losses, total_months and initialize to zero\n",
    "    profit_losses = 0\n",
    "    total_months = 0\n",
    "    pnl_var = 0\n",
    "    pnl_start = 0\n",
    "    pnl_change = False\n",
    "    maximum = 0\n",
    "    minimum = 0\n",
    "    profits = 0\n",
    "    losses = 0\n",
    "\n",
    "  # ignore header\n",
    "    header = next(csvreader) \n",
    "           \n",
    "    for row in csvreader:\n",
    "\n",
    "        # calculate changes in profit and losses\n",
    "        \n",
    "        if pnl_change == True:\n",
    "            total_pnl_change = float(row[1]) - pnl_start\n",
    "            pnl_var += total_pnl_change\n",
    "            pnl_start = float(row[1])\n",
    "        else:\n",
    "            pnl_start = float(row[1])\n",
    "            pnl_var = 0\n",
    "            pnl_change = True\n",
    "\n",
    "        # need to fix this section of code       \n",
    "        if minimum == pnl_var:\n",
    "            minimum = pnl_var\n",
    "        elif pnl_var <= minimum:\n",
    "            minimum = pnl_var\n",
    "        \n",
    "        if pnl_var > maximum:\n",
    "            maximum = pnl_var\n",
    "\n",
    "       # calculate total profit and losses and number of months\n",
    "        profit_losses += int(row[1])\n",
    "        total_months += 1\n",
    "\n",
    "    average_change = round((pnl_var / (total_months -1)), 2)   \n",
    "\n",
    "    profits = [pnl_var for pnl_var in csvreader if pnl_var > 0]\n",
    "\n",
    "    losses = [pnl_var for pnl_var in csvreader if pnl_var < 0]        \n",
    "    \n",
    "    # print results of analysis     \n",
    "    print(f\"Total Months: {total_months}\")\n",
    "\n",
    "    print(f\"Total: ${profit_losses}\")\n",
    "\n",
    "    print(f\"Average Change: ${average_change}\")\n",
    "      \n",
    "    print(f\"Greatest Increase in profits: ...$({maximum})\")\n",
    "\n",
    "    print(f\"Greatest Decrease in profits: ...$({minimum})\")\n"
   ]
  }
 ]
}