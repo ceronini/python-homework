{
 "metadata": {
  "language_info": {
   "codemirror_mode": {
    "name": "ipython",
    "version": 3
   },
   "file_extension": ".py",
   "mimetype": "text/x-python",
   "name": "python",
   "nbconvert_exporter": "python",
   "pygments_lexer": "ipython3",
   "version": "3.8.3-final"
  },
  "orig_nbformat": 2,
  "kernelspec": {
   "name": "Python 3.8.3 64-bit ('base': conda)",
   "display_name": "Python 3.8.3 64-bit ('base': conda)",
   "metadata": {
    "interpreter": {
     "hash": "0a2cef2b6e3b098f14cb7320c350b884ad4974825241ae81559ac482ff86c878"
    }
   }
  }
 },
 "nbformat": 4,
 "nbformat_minor": 2,
 "cells": [
  {
   "cell_type": "code",
   "execution_count": 8,
   "metadata": {
    "tags": []
   },
   "outputs": [],
   "source": [
    "# import financial library\n",
    "import numpy_financial as npf\n",
    "\n",
    "\n",
    "from pathlib import Path\n",
    "import csv\n",
    "\n",
    "# import budget data from internal library\n",
    "menu_data = Path(\"../../../../Fintech_Bootcamp/Class_Work/rice-repo/hw/02-Python/Instructions/PyRamen/Resources/menu_data.csv\")\n",
    "\n",
    "sales_data = Path(\"../../../../Fintech_Bootcamp/Class_Work/rice-repo/hw/02-Python/Instructions/PyRamen/Resources/sales_data.csv\")\n",
    "\n",
    "# to read file\n",
    "with open(menu_data, \"r\") as menu_file:\n",
    "    csvreader = csv.reader(menu_file)\n",
    "\n",
    "    # ignore header\n",
    "    header = next(csvreader)\n",
    "    \n",
    "with open(sales_data, \"r\") as sales_file:\n",
    "    csvreader = csv.reader(sales_file)   \n",
    "\n",
    "    # ignore header\n",
    "    header = next(csvreader) "
   ]
  },
  {
   "cell_type": "code",
   "execution_count": null,
   "metadata": {},
   "outputs": [],
   "source": []
  }
 ]
}